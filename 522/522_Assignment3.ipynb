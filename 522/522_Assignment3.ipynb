{
  "nbformat": 4,
  "nbformat_minor": 0,
  "metadata": {
    "kernelspec": {
      "display_name": "Python 3",
      "language": "python",
      "name": "python3"
    },
    "language_info": {
      "codemirror_mode": {
        "name": "ipython",
        "version": 3
      },
      "file_extension": ".py",
      "mimetype": "text/x-python",
      "name": "python",
      "nbconvert_exporter": "python",
      "pygments_lexer": "ipython3",
      "version": "3.6.3"
    },
    "colab": {
      "name": "MSIS522_Assignment3.ipynb",
      "provenance": [],
      "collapsed_sections": [
        "TuA0ZcPfRu0e"
      ]
    }
  },
  "cells": [
    {
      "cell_type": "markdown",
      "metadata": {
        "id": "zK7EWLIXRu0C"
      },
      "source": [
        "# Clustering"
      ]
    },
    {
      "cell_type": "markdown",
      "metadata": {
        "id": "1Bq6HcaJSzWe"
      },
      "source": [
        "## Problem 1: Segment Customers"
      ]
    },
    {
      "cell_type": "markdown",
      "metadata": {
        "id": "5dKNjMuKRu0E"
      },
      "source": [
        "The problem that we are going to solve in this assignment is to segment customers into different groups based on their shopping trends."
      ]
    },
    {
      "cell_type": "code",
      "metadata": {
        "id": "snzfWDzvRu0F"
      },
      "source": [
        "# import packages\n",
        "%matplotlib inline\n",
        "import numpy as np\n",
        "import pandas as pd\n",
        "import matplotlib.pyplot as plt\n",
        "import seaborn as sns\n",
        "sns.set()"
      ],
      "execution_count": 2,
      "outputs": []
    },
    {
      "cell_type": "markdown",
      "metadata": {
        "id": "O5K8-XTXRu0K"
      },
      "source": [
        "### Load data\n",
        "\n",
        "Our dataset has five columns: CustomerID, Genre, Age, Annual Income, and Spending Score. To view the results in two-dimensional feature space, we will retain only two of these five columns. We can remove CustomerID column, Genre, and Age column. We will retain the Annual Income (in thousands of dollars) and Spending Score (1-100) columns. The Spending Score column signifies how often a person spends money in a mall on a scale of 1 to 100 with 100 being the highest spender."
      ]
    },
    {
      "cell_type": "code",
      "metadata": {
        "id": "lbOcjmnqRu0L",
        "colab": {
          "base_uri": "https://localhost:8080/",
          "height": 203
        },
        "outputId": "698ada05-a1ed-4468-a2fb-855766746ee9"
      },
      "source": [
        "# load the data\n",
        "shopping_data = pd.read_csv('https://raw.githubusercontent.com/zariable/data/master/shopping_data.csv')\n",
        "shopping_data.rename(\n",
        "    columns={\n",
        "        'CustomerID': 'customer_id',\n",
        "        'Genre': 'genre',\n",
        "        'Age': 'age',\n",
        "        'Annual Income (k$)': 'annual_income',\n",
        "        'Spending Score (1-100)': 'spending_score'\n",
        "    },\n",
        "    inplace=True\n",
        ")\n",
        "display(shopping_data.head())\n",
        "\n",
        "# TODO: retain only anual_income and spending_score for clustering\n",
        "\n",
        "shopping_data = shopping_data[['annual_income','spending_score']]"
      ],
      "execution_count": 3,
      "outputs": [
        {
          "output_type": "display_data",
          "data": {
            "text/html": [
              "<div>\n",
              "<style scoped>\n",
              "    .dataframe tbody tr th:only-of-type {\n",
              "        vertical-align: middle;\n",
              "    }\n",
              "\n",
              "    .dataframe tbody tr th {\n",
              "        vertical-align: top;\n",
              "    }\n",
              "\n",
              "    .dataframe thead th {\n",
              "        text-align: right;\n",
              "    }\n",
              "</style>\n",
              "<table border=\"1\" class=\"dataframe\">\n",
              "  <thead>\n",
              "    <tr style=\"text-align: right;\">\n",
              "      <th></th>\n",
              "      <th>customer_id</th>\n",
              "      <th>genre</th>\n",
              "      <th>age</th>\n",
              "      <th>annual_income</th>\n",
              "      <th>spending_score</th>\n",
              "    </tr>\n",
              "  </thead>\n",
              "  <tbody>\n",
              "    <tr>\n",
              "      <th>0</th>\n",
              "      <td>1</td>\n",
              "      <td>Male</td>\n",
              "      <td>19</td>\n",
              "      <td>15</td>\n",
              "      <td>39</td>\n",
              "    </tr>\n",
              "    <tr>\n",
              "      <th>1</th>\n",
              "      <td>2</td>\n",
              "      <td>Male</td>\n",
              "      <td>21</td>\n",
              "      <td>15</td>\n",
              "      <td>81</td>\n",
              "    </tr>\n",
              "    <tr>\n",
              "      <th>2</th>\n",
              "      <td>3</td>\n",
              "      <td>Female</td>\n",
              "      <td>20</td>\n",
              "      <td>16</td>\n",
              "      <td>6</td>\n",
              "    </tr>\n",
              "    <tr>\n",
              "      <th>3</th>\n",
              "      <td>4</td>\n",
              "      <td>Female</td>\n",
              "      <td>23</td>\n",
              "      <td>16</td>\n",
              "      <td>77</td>\n",
              "    </tr>\n",
              "    <tr>\n",
              "      <th>4</th>\n",
              "      <td>5</td>\n",
              "      <td>Female</td>\n",
              "      <td>31</td>\n",
              "      <td>17</td>\n",
              "      <td>40</td>\n",
              "    </tr>\n",
              "  </tbody>\n",
              "</table>\n",
              "</div>"
            ],
            "text/plain": [
              "   customer_id   genre  age  annual_income  spending_score\n",
              "0            1    Male   19             15              39\n",
              "1            2    Male   21             15              81\n",
              "2            3  Female   20             16               6\n",
              "3            4  Female   23             16              77\n",
              "4            5  Female   31             17              40"
            ]
          },
          "metadata": {
            "tags": []
          }
        }
      ]
    },
    {
      "cell_type": "code",
      "metadata": {
        "colab": {
          "base_uri": "https://localhost:8080/",
          "height": 203
        },
        "id": "8_8Okg9hsj-c",
        "outputId": "a38cb41b-f36c-4eae-c4eb-cbd5feb036d7"
      },
      "source": [
        "display(shopping_data.head())"
      ],
      "execution_count": 4,
      "outputs": [
        {
          "output_type": "display_data",
          "data": {
            "text/html": [
              "<div>\n",
              "<style scoped>\n",
              "    .dataframe tbody tr th:only-of-type {\n",
              "        vertical-align: middle;\n",
              "    }\n",
              "\n",
              "    .dataframe tbody tr th {\n",
              "        vertical-align: top;\n",
              "    }\n",
              "\n",
              "    .dataframe thead th {\n",
              "        text-align: right;\n",
              "    }\n",
              "</style>\n",
              "<table border=\"1\" class=\"dataframe\">\n",
              "  <thead>\n",
              "    <tr style=\"text-align: right;\">\n",
              "      <th></th>\n",
              "      <th>annual_income</th>\n",
              "      <th>spending_score</th>\n",
              "    </tr>\n",
              "  </thead>\n",
              "  <tbody>\n",
              "    <tr>\n",
              "      <th>0</th>\n",
              "      <td>15</td>\n",
              "      <td>39</td>\n",
              "    </tr>\n",
              "    <tr>\n",
              "      <th>1</th>\n",
              "      <td>15</td>\n",
              "      <td>81</td>\n",
              "    </tr>\n",
              "    <tr>\n",
              "      <th>2</th>\n",
              "      <td>16</td>\n",
              "      <td>6</td>\n",
              "    </tr>\n",
              "    <tr>\n",
              "      <th>3</th>\n",
              "      <td>16</td>\n",
              "      <td>77</td>\n",
              "    </tr>\n",
              "    <tr>\n",
              "      <th>4</th>\n",
              "      <td>17</td>\n",
              "      <td>40</td>\n",
              "    </tr>\n",
              "  </tbody>\n",
              "</table>\n",
              "</div>"
            ],
            "text/plain": [
              "   annual_income  spending_score\n",
              "0             15              39\n",
              "1             15              81\n",
              "2             16               6\n",
              "3             16              77\n",
              "4             17              40"
            ]
          },
          "metadata": {
            "tags": []
          }
        }
      ]
    },
    {
      "cell_type": "markdown",
      "metadata": {
        "id": "Wx6deWgoRu0O"
      },
      "source": [
        "### Hierarchical Clustering\n",
        "First, we will apply hierarchical clustering and use dendrogram to help find the number of clusters within the data.\n",
        "\n",
        "**TODO: Use dendrogram to plot hierarchical clustering and find the number of clusters that makes sense.**"
      ]
    },
    {
      "cell_type": "code",
      "metadata": {
        "id": "11EVF7NPRu0P",
        "colab": {
          "base_uri": "https://localhost:8080/",
          "height": 431
        },
        "outputId": "33267a1b-d0a1-4818-c65b-8891f87d967b"
      },
      "source": [
        "# TODO\r\n",
        "import scipy.cluster.hierarchy as shc\r\n",
        "\r\n",
        "plt.figure(figsize=(10, 7))  \r\n",
        "dend = shc.dendrogram(shc.linkage(shopping_data, method='ward'))  "
      ],
      "execution_count": 5,
      "outputs": [
        {
          "output_type": "display_data",
          "data": {
            "image/png": "[encoded data removed]",
            "text/plain": [
              "<Figure size 720x504 with 1 Axes>"
            ]
          },
          "metadata": {
            "tags": []
          }
        }
      ]
    },
    {
      "cell_type": "markdown",
      "metadata": {
        "id": "x_8vcGNyRu0T"
      },
      "source": [
        "**TODO: Apply hierarchical clustering based on the number of clusters you pick from the dendrogram, and visualize the results using scatterplot.**"
      ]
    },
    {
      "cell_type": "code",
      "metadata": {
        "id": "ZDz8vl9rRu0T",
        "colab": {
          "base_uri": "https://localhost:8080/",
          "height": 285
        },
        "outputId": "ee0f6e63-77d8-488e-d84e-2b2774ef6972"
      },
      "source": [
        "# TODO\r\n",
        "from sklearn.cluster import AgglomerativeClustering\r\n",
        "\r\n",
        "hc = AgglomerativeClustering(n_clusters=5, affinity='euclidean', linkage='ward')  \r\n",
        "y_ward = hc.fit_predict(shopping_data)  \r\n",
        "\r\n",
        "plt.scatter(shopping_data['annual_income'], shopping_data['spending_score'], c=y_ward, s=50)"
      ],
      "execution_count": 6,
      "outputs": [
        {
          "output_type": "execute_result",
          "data": {
            "text/plain": [
              "<matplotlib.collections.PathCollection at 0x7fef1824bd10>"
            ]
          },
          "metadata": {
            "tags": []
          },
          "execution_count": 6
        },
        {
          "output_type": "display_data",
          "data": {
            "image/png": "[encoded data removed]",
            "text/plain": [
              "<Figure size 432x288 with 1 Axes>"
            ]
          },
          "metadata": {
            "tags": []
          }
        }
      ]
    },
    {
      "cell_type": "markdown",
      "metadata": {
        "id": "zc1jqvW7Ru0W"
      },
      "source": [
        "### K-means Clustering\n",
        "Then, we will apply k-means to the same data and visualize the results.\n",
        "\n",
        "**TODO: Vary the number of K from 2 to 10 and plot the Sum of Squared Error (SSE) as K increases and pick up the value of K that makes sense.**"
      ]
    },
    {
      "cell_type": "code",
      "metadata": {
        "id": "7gC5iFpoRu0Y",
        "colab": {
          "base_uri": "https://localhost:8080/",
          "height": 285
        },
        "outputId": "f318a69b-4a40-408c-87e7-677c9cc02013"
      },
      "source": [
        "# TODO\r\n",
        "from sklearn.cluster import KMeans\r\n",
        "\r\n",
        "sse = {}\r\n",
        "for k in range(2, 11):    \r\n",
        "  kmeans = KMeans(n_clusters=k, random_state=1)    \r\n",
        "  kmeans.fit(shopping_data)    \r\n",
        "  sse[k] = kmeans.inertia_ \r\n",
        "\r\n",
        "# Plot SSE for each k\r\n",
        "plt.xlabel('k'); \r\n",
        "plt.ylabel('SSE')\r\n",
        "sns.pointplot(x=list(sse.keys()), y=list(sse.values()))\r\n",
        "plt.show()"
      ],
      "execution_count": 7,
      "outputs": [
        {
          "output_type": "display_data",
          "data": {
            "image/png": "[encoded data removed]",
            "text/plain": [
              "<Figure size 432x288 with 1 Axes>"
            ]
          },
          "metadata": {
            "tags": []
          }
        }
      ]
    },
    {
      "cell_type": "markdown",
      "metadata": {
        "id": "52XDinaTRu0b"
      },
      "source": [
        "**TODO: Cluster the data using K-means based on the pre-defined value of K from the previous step and and visualize the results using scatterplot.**"
      ]
    },
    {
      "cell_type": "code",
      "metadata": {
        "id": "SWQ4KJp-Ru0b",
        "colab": {
          "base_uri": "https://localhost:8080/",
          "height": 285
        },
        "outputId": "00f3a817-d9ea-4b3e-cda9-40ecdf54383b"
      },
      "source": [
        "# TODO\r\n",
        "kmeans = KMeans(n_clusters=5)\r\n",
        "kmeans.fit(shopping_data)\r\n",
        "y_kmeans = kmeans.predict(shopping_data)\r\n",
        "\r\n",
        "plt.scatter(shopping_data['annual_income'], shopping_data['spending_score'], c=y_kmeans, s=50)\r\n",
        "\r\n",
        "centers = kmeans.cluster_centers_\r\n",
        "plt.scatter(centers[:, 0], centers[:, 1], c='black', s=200, alpha=0.5)"
      ],
      "execution_count": 8,
      "outputs": [
        {
          "output_type": "execute_result",
          "data": {
            "text/plain": [
              "<matplotlib.collections.PathCollection at 0x7fef18285c50>"
            ]
          },
          "metadata": {
            "tags": []
          },
          "execution_count": 8
        },
        {
          "output_type": "display_data",
          "data": {
            "image/png": "[encoded data removed]",
            "text/plain": [
              "<Figure size 432x288 with 1 Axes>"
            ]
          },
          "metadata": {
            "tags": []
          }
        }
      ]
    },
    {
      "cell_type": "markdown",
      "metadata": {
        "id": "mKBYBdKjSrC2"
      },
      "source": [
        "## Problem 2: Clustering (Manually)"
      ]
    },
    {
      "cell_type": "markdown",
      "metadata": {
        "id": "Enllke2tSrj6"
      },
      "source": [
        "For the following dataset, perform the clustering “by hand”:\n",
        "\n",
        "17 28 50 60 80 89 150 167 171 189 \n",
        "1. \tUse the K-means algorithm with K= 3 to cluster the data\n",
        "2. \tUse hierarchical agglomerative clustering with single linkage to cluster the data\n",
        "3. \tUse hierarchical agglomerative clustering with complete linkage to cluster the data\n",
        "4. \tFor K-means What will the final clusters be after 3 iterations if k=3 and the initial centers are 150, 171 and 189"
      ]
    },
    {
      "cell_type": "markdown",
      "metadata": {
        "id": "sSYkoDPEbiDG"
      },
      "source": [
        "### Use the K-means algorithm with K= 3 to cluster the data"
      ]
    },
    {
      "cell_type": "markdown",
      "metadata": {
        "id": "Kz4HRS85cQjG"
      },
      "source": [
        "1. Intial centers: 20, 70, 170\r\n",
        "2. Mean of initial clusters: "
      ]
    },
    {
      "cell_type": "code",
      "metadata": {
        "colab": {
          "base_uri": "https://localhost:8080/"
        },
        "id": "fBYybYyqZpAF",
        "outputId": "a6b49801-cc7f-4547-95d7-3d7ca3da28d8"
      },
      "source": [
        "print(np.array([17,28]).mean())\r\n",
        "print(np.array([50, 60, 80, 89]).mean())\r\n",
        "print(np.array([150, 167, 171, 189]).mean())"
      ],
      "execution_count": 20,
      "outputs": [
        {
          "output_type": "stream",
          "text": [
            "22.5\n",
            "69.75\n",
            "169.25\n"
          ],
          "name": "stdout"
        }
      ]
    },
    {
      "cell_type": "markdown",
      "metadata": {
        "id": "5m42Gw8ocg2f"
      },
      "source": [
        "The nearest centers remain the same, so the clustering is complete."
      ]
    },
    {
      "cell_type": "markdown",
      "metadata": {
        "id": "ry-Zhb86cuJS"
      },
      "source": [
        "### Use hierarchical agglomerative clustering with single linkage to cluster the data"
      ]
    },
    {
      "cell_type": "markdown",
      "metadata": {
        "id": "BUq_o93Cc0_4"
      },
      "source": [
        "1. First (bottom) clusters are individual clusters: \r\n",
        "\r\n",
        "> 17, 28, 50, 60, 80, 89, 150, 167, 171, 189\r\n",
        "\r\n",
        "2. Merge 2 closest clusters: \r\n",
        "\r\n",
        "> [17, 28], [50, 60], [80, 89], [150, 167], [171, 189]\r\n",
        "\r\n",
        "3. Merge clusters with shortest minumum distance until converged into one cluster: \r\n",
        "\r\n",
        "> [17, 28], [50, 60, 80, 89], [150, 167, 171, 189]\r\n",
        "\r\n",
        "> [17, 28, 50, 60, 80, 89], [150, 167, 171, 189]\r\n",
        "\r\n",
        "> [17, 28, 50, 60, 80, 89, 150, 167, 171, 189]"
      ]
    },
    {
      "cell_type": "markdown",
      "metadata": {
        "id": "LeyX9776g50y"
      },
      "source": [
        "### Use hierarchical agglomerative clustering with complete linkage to cluster the data"
      ]
    },
    {
      "cell_type": "markdown",
      "metadata": {
        "id": "3nvTJ-bDhCnS"
      },
      "source": [
        "1. First (bottom) clusters are individual clusters: \r\n",
        "\r\n",
        "> 17, 28, 50, 60, 80, 89, 150, 167, 171, 189\r\n",
        "\r\n",
        "2. Merge 2 closest clusters: \r\n",
        "\r\n",
        "> [17, 28], [50, 60], [80, 89], [150, 167], [171, 189]\r\n",
        "\r\n",
        "3. Merge clusters with shortest maximum distance until converged into one cluster: \r\n",
        "\r\n",
        "> [17, 28, 50, 60], [80, 89], [150, 167, 171, 189]\r\n",
        "\r\n",
        "> [17, 28, 50, 60, 80, 89], [150, 167, 171, 189]\r\n",
        "\r\n",
        "> [17, 28, 50, 60, 80, 89, 150, 167, 171, 189]\r\n"
      ]
    },
    {
      "cell_type": "markdown",
      "metadata": {
        "id": "naJZFA7ciKzW"
      },
      "source": [
        "### What will the final clusters be after 3 iterations if k=3 and the initial centers are 150, 171 and 189"
      ]
    },
    {
      "cell_type": "markdown",
      "metadata": {
        "id": "oDGMorc-igYI"
      },
      "source": [
        "1. Mean of inital clusters:"
      ]
    },
    {
      "cell_type": "code",
      "metadata": {
        "colab": {
          "base_uri": "https://localhost:8080/"
        },
        "id": "EotCD4j-jhV6",
        "outputId": "92b2a933-1423-4152-ce17-05c1c952ce6e"
      },
      "source": [
        "print(np.array([17, 28, 50, 60, 80, 89, 150]).mean())\r\n",
        "print(np.array([167, 171]).mean())\r\n",
        "print(np.array([189]).mean())"
      ],
      "execution_count": 21,
      "outputs": [
        {
          "output_type": "stream",
          "text": [
            "67.71428571428571\n",
            "169.0\n",
            "189.0\n"
          ],
          "name": "stdout"
        }
      ]
    },
    {
      "cell_type": "markdown",
      "metadata": {
        "id": "D3t7EDw0j7Iu"
      },
      "source": [
        "2. Mean of second iteration clusters:"
      ]
    },
    {
      "cell_type": "code",
      "metadata": {
        "colab": {
          "base_uri": "https://localhost:8080/"
        },
        "id": "ZLeF1o1WkDLC",
        "outputId": "6bc5b435-0c91-4f5d-c505-3090791abf48"
      },
      "source": [
        "print(np.array([17, 28, 50, 60, 80, 89]).mean())\r\n",
        "print(np.array([150, 167, 171]).mean())\r\n",
        "print(np.array([189]).mean())"
      ],
      "execution_count": 22,
      "outputs": [
        {
          "output_type": "stream",
          "text": [
            "54.0\n",
            "162.66666666666666\n",
            "189.0\n"
          ],
          "name": "stdout"
        }
      ]
    },
    {
      "cell_type": "markdown",
      "metadata": {
        "id": "V3pDEeztk6cO"
      },
      "source": [
        "3. As 171 is still closer to 162 than 189, the clusters converge:\r\n",
        "\r\n",
        "\r\n",
        "> [17, 28, 50, 60, 80, 89]\r\n",
        "\r\n",
        "> [150, 167, 171]\r\n",
        "\r\n",
        "> [189]\r\n",
        "\r\n",
        "\r\n",
        "\r\n",
        "\r\n"
      ]
    },
    {
      "cell_type": "markdown",
      "metadata": {
        "id": "TuA0ZcPfRu0e"
      },
      "source": [
        "## Bonus points\n",
        "Use the dataset of accepted papers at the AAAI 2014 conference to find clusters of papers using K-Means. You can use paper title or abstract to build your features using [Bag of Words](https://en.wikipedia.org/wiki/Bag-of-words_model).\n",
        "\n",
        "1. Vary the number of K from 2 to 6 and show if the results vary and assess the clusters obtained.\n",
        "\n",
        "2. Make a case regarding which clusters ‘make sense’ e.g., is there a cluster were papers on reinforcement learning are together vs. another cluster which has papers on deep learning."
      ]
    },
    {
      "cell_type": "code",
      "metadata": {
        "id": "sgqqIL0PRu0f",
        "colab": {
          "base_uri": "https://localhost:8080/",
          "height": 289
        },
        "outputId": "1256e082-58a5-408f-bce2-80025c4c5865"
      },
      "source": [
        "# Load the Relevant libraries\n",
        "import sklearn as sk\n",
        "\n",
        "# URL for the AAAI (UW Repository)\n",
        "aaai_data = pd.read_csv(\"https://raw.githubusercontent.com/zariable/data/master/AAAI2014AcceptedPapers.csv\")\n",
        "aaai_data.head()"
      ],
      "execution_count": 28,
      "outputs": [
        {
          "output_type": "execute_result",
          "data": {
            "text/html": [
              "<div>\n",
              "<style scoped>\n",
              "    .dataframe tbody tr th:only-of-type {\n",
              "        vertical-align: middle;\n",
              "    }\n",
              "\n",
              "    .dataframe tbody tr th {\n",
              "        vertical-align: top;\n",
              "    }\n",
              "\n",
              "    .dataframe thead th {\n",
              "        text-align: right;\n",
              "    }\n",
              "</style>\n",
              "<table border=\"1\" class=\"dataframe\">\n",
              "  <thead>\n",
              "    <tr style=\"text-align: right;\">\n",
              "      <th></th>\n",
              "      <th>title</th>\n",
              "      <th>authors</th>\n",
              "      <th>groups</th>\n",
              "      <th>keywords</th>\n",
              "      <th>topics</th>\n",
              "      <th>abstract</th>\n",
              "    </tr>\n",
              "  </thead>\n",
              "  <tbody>\n",
              "    <tr>\n",
              "      <th>0</th>\n",
              "      <td>Kernelized Bayesian Transfer Learning</td>\n",
              "      <td>Mehmet Gönen and Adam A. Margolin</td>\n",
              "      <td>Novel Machine Learning Algorithms (NMLA)</td>\n",
              "      <td>cross-domain learning\\ndomain adaptation\\nkern...</td>\n",
              "      <td>APP: Biomedical / Bioinformatics\\nNMLA: Bayesi...</td>\n",
              "      <td>Transfer learning considers related but distin...</td>\n",
              "    </tr>\n",
              "    <tr>\n",
              "      <th>1</th>\n",
              "      <td>\"Source Free\" Transfer Learning for Text Class...</td>\n",
              "      <td>Zhongqi Lu, Yin Zhu, Sinno Pan, Evan Xiang, Yu...</td>\n",
              "      <td>AI and the Web (AIW)\\nNovel Machine Learning A...</td>\n",
              "      <td>Transfer Learning\\nAuxiliary Data Retrieval\\nT...</td>\n",
              "      <td>AIW: Knowledge acquisition from the web\\nAIW: ...</td>\n",
              "      <td>Transfer learning uses relevant auxiliary data...</td>\n",
              "    </tr>\n",
              "    <tr>\n",
              "      <th>2</th>\n",
              "      <td>A Generalization of Probabilistic Serial to Ra...</td>\n",
              "      <td>Haris Aziz and Paul Stursberg</td>\n",
              "      <td>Game Theory and Economic Paradigms (GTEP)</td>\n",
              "      <td>social choice theory\\nvoting\\nfair division\\ns...</td>\n",
              "      <td>GTEP: Game Theory\\nGTEP: Social Choice / Voting</td>\n",
              "      <td>The probabilistic serial (PS) rule is one of t...</td>\n",
              "    </tr>\n",
              "    <tr>\n",
              "      <th>3</th>\n",
              "      <td>Lifetime Lexical Variation in Social Media</td>\n",
              "      <td>Liao Lizi, Jing Jiang, Ying Ding, Heyan Huang ...</td>\n",
              "      <td>NLP and Text Mining (NLPTM)</td>\n",
              "      <td>Generative model\\nSocial Networks\\nAge Prediction</td>\n",
              "      <td>AIW: Web personalization and user modeling\\nNL...</td>\n",
              "      <td>As the rapid growth of online social media att...</td>\n",
              "    </tr>\n",
              "    <tr>\n",
              "      <th>4</th>\n",
              "      <td>Hybrid Singular Value Thresholding for Tensor ...</td>\n",
              "      <td>Xiaoqin Zhang, Zhengyuan Zhou, Di Wang and Yi Ma</td>\n",
              "      <td>Knowledge Representation and Reasoning (KRR)\\n...</td>\n",
              "      <td>tensor completion\\nlow-rank recovery\\nhybrid s...</td>\n",
              "      <td>KRR: Knowledge Representation (General/Other)\\...</td>\n",
              "      <td>In this paper, we study the low-rank tensor co...</td>\n",
              "    </tr>\n",
              "  </tbody>\n",
              "</table>\n",
              "</div>"
            ],
            "text/plain": [
              "                                               title  ...                                           abstract\n",
              "0              Kernelized Bayesian Transfer Learning  ...  Transfer learning considers related but distin...\n",
              "1  \"Source Free\" Transfer Learning for Text Class...  ...  Transfer learning uses relevant auxiliary data...\n",
              "2  A Generalization of Probabilistic Serial to Ra...  ...  The probabilistic serial (PS) rule is one of t...\n",
              "3         Lifetime Lexical Variation in Social Media  ...  As the rapid growth of online social media att...\n",
              "4  Hybrid Singular Value Thresholding for Tensor ...  ...  In this paper, we study the low-rank tensor co...\n",
              "\n",
              "[5 rows x 6 columns]"
            ]
          },
          "metadata": {
            "tags": []
          },
          "execution_count": 28
        }
      ]
    }
  ]
}